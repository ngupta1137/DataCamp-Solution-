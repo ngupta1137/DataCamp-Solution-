{
 "cells": [
  {
   "cell_type": "code",
   "execution_count": null,
   "metadata": {
    "collapsed": true
   },
   "outputs": [],
   "source": [
    "# Print the head of airquality\n",
    "print(airquality.head())\n",
    "\n",
    "# Melt airquality: airquality_melt\n",
    "airquality_melt = pd.melt(airquality, id_vars=['Month','Day'])\n",
    "\n",
    "# Print the head of airquality_melt\n",
    "print(airquality_melt.head())\n"
   ]
  },
  {
   "cell_type": "code",
   "execution_count": null,
   "metadata": {
    "collapsed": true
   },
   "outputs": [],
   "source": [
    "# Print the head of airquality\n",
    "print(airquality.head())\n",
    "\n",
    "# Melt airquality: airquality_melt\n",
    "airquality_melt = pd.melt(airquality, id_vars=['Month', 'Day'], var_name='measurement', value_name='reading')\n",
    "\n",
    "# Print the head of airquality_melt\n",
    "print(airquality_melt.head())\n"
   ]
  },
  {
   "cell_type": "code",
   "execution_count": null,
   "metadata": {
    "collapsed": true
   },
   "outputs": [],
   "source": [
    "# Print the head of airquality_melt\n",
    "print(airquality_melt.head())\n",
    "\n",
    "# Pivot airquality_melt: airquality_pivot\n",
    "airquality_pivot = airquality_melt.pivot_table(index=['Month', 'Day'], columns='measurement', values='reading')\n",
    "\n",
    "# Print the head of airquality_pivot\n",
    "print(airquality_pivot.head())\n"
   ]
  },
  {
   "cell_type": "code",
   "execution_count": null,
   "metadata": {
    "collapsed": true
   },
   "outputs": [],
   "source": [
    "# Print the index of airquality_pivot\n",
    "print(airquality_pivot.index)\n",
    "\n",
    "# Reset the index of airquality_pivot: airquality_pivot\n",
    "airquality_pivot = airquality_pivot.reset_index()\n",
    "\n",
    "# Print the new index of airquality_pivot\n",
    "print(airquality_pivot.index)\n",
    "\n",
    "# Print the head of airquality_pivot\n",
    "print(airquality_pivot.head())\n"
   ]
  },
  {
   "cell_type": "code",
   "execution_count": null,
   "metadata": {
    "collapsed": true
   },
   "outputs": [],
   "source": [
    "# Pivot airquality_dup: airquality_pivot\n",
    "airquality_pivot = airquality_melt.pivot_table(index=['Month','Day'], columns='measurement', values='reading', aggfunc = np.mean)\n",
    "\n",
    "# Reset the index of airquality_pivot\n",
    "airquality_pivot = airquality_pivot.reset_index()\n",
    "\n",
    "# Print the head of airquality_pivot\n",
    "print(airquality_pivot.head())\n",
    "\n",
    "# Print the head of airquality\n",
    "print(airquality.head())\n"
   ]
  },
  {
   "cell_type": "code",
   "execution_count": null,
   "metadata": {
    "collapsed": true
   },
   "outputs": [],
   "source": [
    "# Melt tb: tb_melt\n",
    "tb_melt = pd.melt(tb, id_vars=['country','year']) # since didnt mention value_vars therefore rest all column will melt\n",
    "\n",
    "# Create the 'gender' column\n",
    "tb_melt['gender'] = tb_melt.variable.str[0]\n",
    "\n",
    "# Create the 'age_group' column\n",
    "tb_melt['age_group'] = tb_melt.variable.str[1:]\n",
    "\n",
    "# Print the head of tb_melt\n",
    "print(tb_melt.head())\n",
    "\n",
    "\n",
    "## WHAT ACTUALLY  HAPPEN  IS - ##\n",
    "\n",
    "tb = \n",
    "    country  year  m014  m1524  m2534  m3544  m4554  m5564   m65  mu  f014  \n",
    "0      AD  2000   0.0    0.0    1.0    0.0    0.0    0.0   0.0 NaN   NaN   \n",
    "1      AE  2000   2.0    4.0    4.0    6.0    5.0   12.0  10.0 NaN   3.0   \n",
    "2      AF  2000  52.0  228.0  183.0  149.0  129.0   94.0  80.0 NaN  93.0   \n",
    "3      AG  2000   0.0    0.0    0.0    0.0    0.0    0.0   1.0 NaN   1.0   \n",
    "4      AL  2000   2.0   19.0   21.0   14.0   24.0   19.0  16.0 NaN   3.0   \n",
    "\n",
    "   f1524  f2534  f3544  f4554  f5564   f65  fu  \n",
    "0    NaN    NaN    NaN    NaN    NaN   NaN NaN  \n",
    "1   16.0    1.0    3.0    0.0    0.0   4.0 NaN  \n",
    "2  414.0  565.0  339.0  205.0   99.0  36.0 NaN  \n",
    "3    1.0    1.0    0.0    0.0    0.0   0.0 NaN  \n",
    "4   11.0   10.0    8.0    8.0    5.0  11.0 NaN\n",
    "\n",
    "tb_ melt =  \n",
    "    country  year variable  value gender age_group\n",
    "0      AD  2000     m014    0.0      m       014\n",
    "1      AE  2000     m014    2.0      m       014\n",
    "2      AF  2000     m014   52.0      m       014\n",
    "3      AG  2000     m014    0.0      m       014\n",
    "4      AL  2000     m014    2.0      m       014\n",
    "\n"
   ]
  },
  {
   "cell_type": "code",
   "execution_count": null,
   "metadata": {
    "collapsed": true
   },
   "outputs": [],
   "source": [
    "# Melt ebola: ebola_melt\n",
    "ebola_melt = pd.melt(ebola, id_vars=['Date', 'Day'], var_name='type_country', value_name='counts')\n",
    "\n",
    "# Create the 'str_split' column\n",
    "ebola_melt['str_split'] = ebola_melt.type_country.str.split('_')\n",
    "\n",
    "# Create the 'type' column\n",
    "ebola_melt['type'] = ebola_melt.str_split.str.get(0)\n",
    "\n",
    "# Create the 'country' column\n",
    "ebola_melt['country'] = ebola_melt.str_split.str.get(1)\n",
    "\n",
    "# Print the head of ebola_melt\n",
    "print(ebola_melt.head())\n",
    "\n",
    "# OUTPUT - #\n",
    "\n",
    "Date  Day  type_country  counts        str_split   type country\n",
    "0    1/5/2015  289  Cases_Guinea  2776.0  [Cases, Guinea]  Cases  Guinea\n",
    "1    1/4/2015  288  Cases_Guinea  2775.0  [Cases, Guinea]  Cases  Guinea\n",
    "2    1/3/2015  287  Cases_Guinea  2769.0  [Cases, Guinea]  Cases  Guinea\n",
    "3    1/2/2015  286  Cases_Guinea     NaN  [Cases, Guinea]  Cases  Guinea\n",
    "4  12/31/2014  284  Cases_Guinea  2730.0  [Cases, Guinea]  Cases  Guinea\n",
    "\n",
    "\n",
    "ebola.head() = \n",
    "Date  Day  Cases_Guinea  Cases_Liberia  Cases_SierraLeone  \\\n",
    "0    1/5/2015  289        2776.0            NaN            10030.0   \n",
    "1    1/4/2015  288        2775.0            NaN             9780.0   \n",
    "2    1/3/2015  287        2769.0         8166.0             9722.0   \n",
    "3    1/2/2015  286           NaN         8157.0                NaN   \n",
    "4  12/31/2014  284        2730.0         8115.0             9633.0   \n",
    "\n",
    "   Cases_Nigeria  Cases_Senegal  Cases_UnitedStates  Cases_Spain  Cases_Mali  \\\n",
    "0            NaN            NaN                 NaN          NaN         NaN   \n",
    "1            NaN            NaN                 NaN          NaN         NaN   \n",
    "2            NaN            NaN                 NaN          NaN         NaN   \n",
    "3            NaN            NaN                 NaN          NaN         NaN   \n",
    "4            NaN            NaN                 NaN          NaN         NaN   \n",
    "\n",
    "   Deaths_Guinea  Deaths_Liberia  Deaths_SierraLeone  Deaths_Nigeria  \\\n",
    "0         1786.0             NaN              2977.0             NaN   \n",
    "1         1781.0             NaN              2943.0             NaN   \n",
    "2         1767.0          3496.0              2915.0             NaN   \n",
    "3            NaN          3496.0                 NaN             NaN   \n",
    "4         1739.0          3471.0              2827.0             NaN   \n",
    "\n",
    "   Deaths_Senegal  Deaths_UnitedStates  Deaths_Spain  Deaths_Mali  \n",
    "0             NaN                  NaN           NaN          NaN  \n",
    "1             NaN                  NaN           NaN          NaN  \n",
    "2             NaN                  NaN           NaN          NaN  \n",
    "3             NaN                  NaN           NaN          NaN  \n",
    "4             NaN                  NaN           NaN          NaN\n",
    "\n",
    "\n"
   ]
  }
 ],
 "metadata": {
  "kernelspec": {
   "display_name": "Python 3",
   "language": "python",
   "name": "python3"
  },
  "language_info": {
   "codemirror_mode": {
    "name": "ipython",
    "version": 3
   },
   "file_extension": ".py",
   "mimetype": "text/x-python",
   "name": "python",
   "nbconvert_exporter": "python",
   "pygments_lexer": "ipython3",
   "version": "3.6.1"
  }
 },
 "nbformat": 4,
 "nbformat_minor": 2
}
