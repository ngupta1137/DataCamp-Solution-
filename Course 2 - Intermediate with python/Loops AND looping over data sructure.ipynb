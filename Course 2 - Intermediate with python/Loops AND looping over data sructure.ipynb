{
 "cells": [
  {
   "cell_type": "markdown",
   "metadata": {},
   "source": [
    "# while "
   ]
  },
  {
   "cell_type": "code",
   "execution_count": 6,
   "metadata": {},
   "outputs": [
    {
     "name": "stdout",
     "output_type": "stream",
     "text": [
      "correcting...\n",
      "3\n",
      "correcting...\n",
      "2\n",
      "correcting...\n",
      "1\n",
      "correcting...\n",
      "0\n"
     ]
    }
   ],
   "source": [
    "offset = 4\n",
    "while offset!= 0 :\n",
    "    print(\"correcting...\")\n",
    "    offset = offset-1\n",
    "    print(offset)"
   ]
  },
  {
   "cell_type": "code",
   "execution_count": 5,
   "metadata": {},
   "outputs": [
    {
     "name": "stdout",
     "output_type": "stream",
     "text": [
      "correcting...\n",
      "-5\n",
      "correcting...\n",
      "-4\n",
      "correcting...\n",
      "-3\n",
      "correcting...\n",
      "-2\n",
      "correcting...\n",
      "-1\n",
      "correcting...\n",
      "0\n"
     ]
    }
   ],
   "source": [
    "offset = -6\n",
    "while offset != 0 :\n",
    "    print(\"correcting...\")\n",
    "    if offset>0 :\n",
    "        offset = offset -1\n",
    "    else:\n",
    "        offset = offset +1\n",
    "    print(offset)"
   ]
  },
  {
   "cell_type": "markdown",
   "metadata": {},
   "source": [
    "# for"
   ]
  },
  {
   "cell_type": "code",
   "execution_count": 7,
   "metadata": {},
   "outputs": [
    {
     "name": "stdout",
     "output_type": "stream",
     "text": [
      "11.25\n",
      "18.0\n",
      "20.0\n",
      "10.75\n",
      "9.5\n"
     ]
    }
   ],
   "source": [
    "areas = [11.25, 18.0, 20.0, 10.75, 9.50]\n",
    "for area in areas:\n",
    "    print(area)"
   ]
  },
  {
   "cell_type": "code",
   "execution_count": 1,
   "metadata": {},
   "outputs": [
    {
     "name": "stdout",
     "output_type": "stream",
     "text": [
      "room 0: 11.25\n",
      "room 1: 18.0\n",
      "room 2: 20.0\n",
      "room 3: 10.75\n",
      "room 4: 9.5\n"
     ]
    }
   ],
   "source": [
    "#The enumerate() method adds counter to a sequence, an iterator, or objects that supports iteration and returns it\n",
    "\n",
    "areas = [11.25, 18.0, 20.0, 10.75, 9.50]\n",
    "for x,y in enumerate(areas) :\n",
    "    print(\"room \" + str(x) + \": \" + str(y))"
   ]
  },
  {
   "cell_type": "markdown",
   "metadata": {},
   "source": [
    "# looping over data structure"
   ]
  },
  {
   "cell_type": "code",
   "execution_count": 11,
   "metadata": {},
   "outputs": [
    {
     "name": "stdout",
     "output_type": "stream",
     "text": [
      "hallway\n",
      "kitchen\n",
      "living room\n",
      "bedroom\n",
      "bathroom\n"
     ]
    }
   ],
   "source": [
    "house = [[\"hallway\", 11], \n",
    "         [\"kitchen\", 18], \n",
    "         [\"living room\", 20], \n",
    "         [\"bedroom\", 1075], \n",
    "         [\"bathroom\", 950]]\n",
    "for x in house:\n",
    "    print(x[0])"
   ]
  },
  {
   "cell_type": "code",
   "execution_count": 1,
   "metadata": {},
   "outputs": [
    {
     "name": "stdout",
     "output_type": "stream",
     "text": [
      "the capital of spain is madrid\n",
      "the capital of france is paris\n",
      "the capital of germany is bonn\n",
      "the capital of norway is oslo\n",
      "the capital of italy is rome\n",
      "the capital of poland is warsaw\n",
      "the capital of australia is vienna\n"
     ]
    }
   ],
   "source": [
    "# you need the items() method to loop over a dictionary\n",
    "europe = {'spain':'madrid', 'france':'paris', 'germany':'bonn', \n",
    "          'norway':'oslo', 'italy':'rome', 'poland':'warsaw', 'australia':'vienna' }\n",
    "\n",
    "for key , value in europe.items():\n",
    "    print(\"the capital of \" + str(key) + \" is \" + str(value))"
   ]
  },
  {
   "cell_type": "code",
   "execution_count": null,
   "metadata": {
    "collapsed": true
   },
   "outputs": [],
   "source": [
    "# looping over numpy 2D array we use np.nditer()\n",
    "\n",
    "import numpy as np\n",
    "for x in np_height:\n",
    "    print(str(x) + \" inches\")\n",
    "for x in np.nditer(np_baseball):\n",
    "    print(x)"
   ]
  },
  {
   "cell_type": "code",
   "execution_count": null,
   "metadata": {
    "collapsed": true
   },
   "outputs": [],
   "source": [
    "# looping over Pandas DataFrame ... we use iterrows()\n",
    "import pandas as pd\n",
    "cars = pd.read_csv('cars.csv', index_col = 0)\n",
    "for label , row in cars.iterrows():  # here we are using one loop to print label and other to print rows info\n",
    "    print(lab)\n",
    "    print(row)\n",
    "    \n",
    "# output will be --\n",
    "    US\n",
    "    cars_per_cap              809\n",
    "    country         United States\n",
    "    drives_right             True\n",
    "    Name: US, dtype: object\n",
    "    AUS\n",
    "    cars_per_cap          731\n",
    "    country         Australia\n",
    "    drives_right        False\n",
    "    Name: AUS, dtype: object\n",
    "    .\n",
    "    .\n",
    "    .\n",
    "    ."
   ]
  },
  {
   "cell_type": "code",
   "execution_count": null,
   "metadata": {
    "collapsed": true
   },
   "outputs": [],
   "source": [
    "# Code for loop that adds COUNTRY column in 'cars' dataset\n",
    "for lab, row in cars.iterrows() :\n",
    "cars.loc[lab, \"COUNTRY\"] = (row[\"country\"]).upper()\n",
    "print(cars)\n",
    "\n",
    "# Use .apply(str.upper) method for same output as above\n",
    "for lab, row in cars.iterrows() :\n",
    "    cars[\"COUNTRY\"] = cars[\"country\"].apply(str.upper)"
   ]
  }
 ],
 "metadata": {
  "kernelspec": {
   "display_name": "Python 3",
   "language": "python",
   "name": "python3"
  },
  "language_info": {
   "codemirror_mode": {
    "name": "ipython",
    "version": 3
   },
   "file_extension": ".py",
   "mimetype": "text/x-python",
   "name": "python",
   "nbconvert_exporter": "python",
   "pygments_lexer": "ipython3",
   "version": "3.6.1"
  }
 },
 "nbformat": 4,
 "nbformat_minor": 2
}
