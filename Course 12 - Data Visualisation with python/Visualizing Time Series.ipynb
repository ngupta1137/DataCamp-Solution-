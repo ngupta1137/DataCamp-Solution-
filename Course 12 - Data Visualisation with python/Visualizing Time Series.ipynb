{
 "cells": [
  {
   "cell_type": "markdown",
   "metadata": {},
   "source": [
    "### Multiple time series on common axes\n",
    "For this exercise, you will construct a plot showing four time series stocks on the same axes. The time series in question are represented in the session using the identifiers aapl, ibm, csco, and msft. You'll generate a single plot showing all the time series on common axes with a legend"
   ]
  },
  {
   "cell_type": "code",
   "execution_count": null,
   "metadata": {
    "collapsed": true
   },
   "outputs": [],
   "source": [
    "# Import matplotlib.pyplot\n",
    "import matplotlib.pyplot as plt\n",
    "\n",
    "# Plot the aapl time series in blue\n",
    "plt.plot(aapl, color='blue', label='AAPL')\n",
    "\n",
    "# Plot the ibm time series in green\n",
    "plt.plot(ibm, color='green', label='IBM')\n",
    "\n",
    "# Plot the csco time series in red\n",
    "plt.plot(csco, color='red', label='CSCO')\n",
    "\n",
    "# Plot the msft time series in magenta\n",
    "plt.plot(msft, color='magenta', label='MSFT')\n",
    "\n",
    "# Add a legend in the top left corner of the plot\n",
    "plt.legend(loc='upper left')\n",
    "\n",
    "# Specify the orientation of the xticks\n",
    "plt.xticks(rotation =60)\n",
    "\n",
    "# Display the plot\n",
    "plt.show()\n"
   ]
  },
  {
   "cell_type": "markdown",
   "metadata": {},
   "source": [
    "### Multiple time series slices (1)\n",
    "You can easily slice subsets corresponding to different time intervals from a time series. In particular, you can use strings like '2001:2005', '2011-03:2011-12', or '2010-04-19:2010-04-30' to extract data from time intervals of length 5 years, 10 months, or 12 days respectively.\n",
    "\n",
    "Unlike slicing from standard Python lists, tuples, and strings, when slicing time series by labels (and other pandas Series & DataFrames by labels), the slice includes the right-most portion of the slice. That is, extracting my_time_series['1990':'1995'] extracts data from my_time_series corresponding to 1990, 1991, 1992, 1993, 1994, and 1995 inclusive.\n",
    "You can use partial strings or datetime objects for indexing and slicing from time series.\n",
    "For this exercise, you will use time series slicing to plot the time series aapl over its full 11-year range and also over a shorter 2-year range. You'll arrange these plots in a 2×1 grid of subplots"
   ]
  },
  {
   "cell_type": "code",
   "execution_count": null,
   "metadata": {
    "collapsed": true
   },
   "outputs": [],
   "source": [
    "# Plot the series in the top subplot in blue\n",
    "plt.subplot(2,1,1)\n",
    "plt.xticks(rotation=45)\n",
    "plt.title('AAPL: 2001 to 2011')\n",
    "plt.plot(aapl, color='blue')\n",
    "\n",
    "# Slice aapl from '2007' to '2008' inclusive: view\n",
    "view = aapl['2007':'2008']\n",
    "\n",
    "# Plot the sliced data in the bottom subplot in black\n",
    "plt.subplot(2,1,2)\n",
    "plt.xticks(rotation=45)\n",
    "plt.title('AAPL: 2007 to 2008')\n",
    "plt.plot(view, color='black')\n",
    "plt.tight_layout()\n",
    "plt.show()"
   ]
  },
  {
   "cell_type": "code",
   "execution_count": null,
   "metadata": {
    "collapsed": true
   },
   "outputs": [],
   "source": [
    "# Slice aapl from Nov. 2007 to Apr. 2008 inclusive: view\n",
    "view = aapl['2007-11':'2008-04']\n",
    "\n",
    "# Plot the sliced series in the top subplot in red\n",
    "plt.subplot(2,1,1)\n",
    "plt.xticks(rotation=45)\n",
    "plt.title('AAPL: Nov. 2007 to Apr. 2008')\n",
    "plt.plot(view,color='red')\n",
    "\n",
    "# Reassign the series by slicing the month January 2008\n",
    "view = aapl['2008-01']\n",
    "\n",
    "# Plot the sliced series in the bottom subplot in green\n",
    "plt.subplot(2,1,2)\n",
    "plt.xticks(rotation=45)\n",
    "plt.title('AAPL: Jan. 2008')\n",
    "plt.plot(view,color='green')\n",
    "\n",
    "# Improve spacing and display the plot\n",
    "plt.tight_layout()\n",
    "plt.show()\n"
   ]
  },
  {
   "cell_type": "code",
   "execution_count": null,
   "metadata": {
    "collapsed": true
   },
   "outputs": [],
   "source": [
    "# Slice aapl from Nov. 2007 to Apr. 2008 inclusive: view\n",
    "view = aapl['2007-11':'2008-04']\n",
    "\n",
    "# Plot the entire series \n",
    "plt.plot(aapl)\n",
    "plt.xticks(rotation=45)\n",
    "plt.title('AAPL: 2001-2011')\n",
    "\n",
    "# Specify the axes\n",
    "plt.axes([0.25, 0.5, 0.35, 0.35])\n",
    "\n",
    "# Plot the sliced series in red using the current axes\n",
    "plt.plot(view,color='red')\n",
    "plt.xticks(rotation=45)\n",
    "plt.title('2007/11-2008/04')\n",
    "plt.show()\n"
   ]
  },
  {
   "cell_type": "markdown",
   "metadata": {},
   "source": [
    "### Plotting moving averages\n",
    "In this exercise, you will plot pre-computed moving averages of AAPL stock prices in distinct subplots.\n",
    "\n",
    "The time series aapl is overlayed in black in each subplot for comparison.\n",
    "The time series mean_30, mean_75, mean_125, and mean_250 have been computed for you (containing the windowed averages of the series aapl computed over windows of width 30 days, 75 days, 125 days, and 250 days respectively)."
   ]
  },
  {
   "cell_type": "code",
   "execution_count": null,
   "metadata": {
    "collapsed": true
   },
   "outputs": [],
   "source": [
    "# Plot the 30-day moving average in the top left subplot in green\n",
    "plt.subplot(2, 2, 1)\n",
    "plt.plot(mean_30, 'green')\n",
    "plt.plot(aapl, 'k-.')\n",
    "plt.xticks(rotation=60)\n",
    "plt.title('30d averages')\n",
    "\n",
    "# Plot the 75-day moving average in the top right subplot in red\n",
    "plt.subplot(2, 2, 2)\n",
    "plt.plot(mean_75, 'red')\n",
    "plt.plot(aapl, 'k-.')\n",
    "plt.xticks(rotation=60)\n",
    "plt.title('75d averages')\n",
    "\n",
    "# Plot the 125-day moving average in the bottom left subplot in magenta\n",
    "plt.subplot(2, 2, 3)\n",
    "plt.plot(mean_125, 'magenta')\n",
    "plt.plot(aapl, 'k-.')\n",
    "plt.xticks(rotation=60)\n",
    "plt.title('125d averages')\n",
    "\n",
    "# Plot the 250-day moving average in the bottom right subplot in cyan\n",
    "plt.subplot(2, 2, 4)\n",
    "plt.plot(mean_250, 'cyan')\n",
    "plt.plot(aapl, 'k-.')\n",
    "plt.xticks(rotation=60)\n",
    "plt.title('250d averages')\n",
    "\n",
    "# Display the plot\n",
    "plt.show()\n"
   ]
  },
  {
   "cell_type": "markdown",
   "metadata": {},
   "source": [
    "### Plotting moving standard deviations\n",
    "Having plotted pre-computed moving averages of AAPL stock prices on distinct subplots in the previous exercise, you will now plot pre-computed moving standard deviations of the same stock prices, this time together on common axes.\n",
    "\n",
    "The time series aapl is not plotted in this case; it is of a different length scale than the standard deviations.\n",
    "The time series std_30, std_75, stdn_125, & std_250 have been computed for you (containing the windowed standard deviations of the series aapl computed over windows of width 30 days, 75 days, 125 days, & 250 days respectively)."
   ]
  },
  {
   "cell_type": "code",
   "execution_count": null,
   "metadata": {
    "collapsed": true
   },
   "outputs": [],
   "source": [
    "# Plot std_30 in red\n",
    "plt.plot(std_30, 'red', label='30d')\n",
    "\n",
    "# Plot std_75 in cyan\n",
    "plt.plot(std_75, 'cyan', label='75d')\n",
    "\n",
    "# Plot std_125 in green\n",
    "plt.plot(std_125, 'green', label='125d')\n",
    "\n",
    "# Plot std_250 in magenta\n",
    "plt.plot(std_250, 'magenta', label='250d')\n",
    "\n",
    "# Add a legend to the upper left\n",
    "plt.legend(loc='upper left')\n",
    "\n",
    "# Add a title\n",
    "plt.title('Moving standard deviations')\n",
    "\n",
    "# Display the plot\n",
    "plt.show()\n"
   ]
  },
  {
   "cell_type": "markdown",
   "metadata": {},
   "source": [
    "### Extracting a histogram from a grayscale image\n",
    "For grayscale images, various image processing algorithms use an image histogram. Recall that an image is a two-dimensional array of numerical intensities. An image histogram, then, is computed by counting the occurences of distinct pixel intensities over all the pixels in the image.\n",
    "\n",
    "For this exercise, you will load an unequalized low contrast image of Hawkes Bay, New Zealand (originally by Phillip Capper, modified by User:Konstable, via Wikimedia Commons, CC BY 2.0). You will plot the image and use the pixel intensity values to plot a normalized histogram of pixel intensities."
   ]
  },
  {
   "cell_type": "code",
   "execution_count": null,
   "metadata": {
    "collapsed": true
   },
   "outputs": [],
   "source": [
    "# Load the image into an array: image\n",
    "image = plt.imread('640px-Unequalized_Hawkes_Bay_NZ.jpg')\n",
    "\n",
    "# Display image in top subplot using color map 'gray'\n",
    "plt.subplot(2,1,1)\n",
    "plt.title('Original image')\n",
    "plt.axis('off')\n",
    "plt.imshow(image,cmap='gray')\n",
    "\n",
    "# Flatten the image into 1 dimension: pixels\n",
    "pixels = image.flatten()\n",
    "\n",
    "# Display a histogram of the pixels in the bottom subplot\n",
    "plt.subplot(2,1,2)\n",
    "plt.xlim((0,255))\n",
    "plt.title('Normalized histogram')\n",
    "plt.hist(pixels,bins=64,range=(0,256),normed=True,color='red', alpha=0.4)\n",
    "\n",
    "# Display the plot\n",
    "plt.show()\n"
   ]
  },
  {
   "cell_type": "markdown",
   "metadata": {},
   "source": [
    "### Cumulative Distribution Function from an image histogram\n",
    "A histogram of a continuous random variable is sometimes called a Probability Distribution Function (or PDF). The area under a PDF (a definite integral) is called a Cumulative Distribution Function (or CDF). The CDF quantifies the probability of observing certain pixel intensities.\n",
    "\n",
    "Your task here is to plot the PDF and CDF of pixel intensities from a grayscale image. You will use the grayscale image of Hawkes Bay, New Zealand (originally by Phillip Capper, modified by User:Konstable, via Wikimedia Commons, CC BY 2.0). This time, the 2D array image will be pre-loaded and pre-flattened into the 1D array pixels for you.\n",
    "\n",
    "The histogram option cumulative=True permits viewing the CDF instead of the PDF.\n",
    "Notice that plt.grid('off') switches off distracting grid lines.\n",
    "The command plt.twinx() allows two plots to be overlayed sharing the x-axis but with different scales on the y-axis.`"
   ]
  },
  {
   "cell_type": "code",
   "execution_count": null,
   "metadata": {
    "collapsed": true
   },
   "outputs": [],
   "source": [
    "# Load the image into an array: image\n",
    "image = plt.imread('640px-Unequalized_Hawkes_Bay_NZ.jpg')\n",
    "\n",
    "# Display image in top subplot using color map 'gray'\n",
    "plt.subplot(2,1,1)\n",
    "plt.imshow(image, cmap='gray')\n",
    "plt.title('Original image')\n",
    "plt.axis('off')\n",
    "\n",
    "# Flatten the image into 1 dimension: pixels\n",
    "pixels = image.flatten()\n",
    "\n",
    "# Display a histogram of the pixels in the bottom subplot\n",
    "plt.subplot(2,1,2)\n",
    "pdf = plt.hist(pixels, bins=64, range=(0,256), normed=False,\n",
    "               color='red', alpha=0.4)\n",
    "plt.grid('off')\n",
    "\n",
    "# Use plt.twinx() to overlay the CDF in the bottom subplot\n",
    "plt.twinx()\n",
    "\n",
    "# Display a cumulative histogram of the pixels\n",
    "cdf = plt.hist(pixels, bins=64, range=(0,256),\n",
    "               normed=True,cumulative=True,\n",
    "               color='blue', alpha=0.4)\n",
    "               \n",
    "# Specify x-axis range, hide axes, add title and display plot\n",
    "plt.xlim((0,256))\n",
    "plt.grid('off')\n",
    "plt.title('PDF & CDF (original image)')\n",
    "plt.show()\n",
    "\n"
   ]
  },
  {
   "cell_type": "markdown",
   "metadata": {},
   "source": [
    "### Equalizing an image histogram\n",
    "Histogram equalization is an image processing procedure that reassigns image pixel intensities. The basic idea is to use interpolation to map the original CDF of pixel intensities to a CDF that is almost a straight line. In essence, the pixel intensities are spread out and this has the practical effect of making a sharper, contrast-enhanced image. This is particularly useful in astronomy and medical imaging to help us see more features.\n",
    "\n",
    "For this exercise, you will again work with the grayscale image of Hawkes Bay, New Zealand (originally by Phillip Capper, modified by User:Konstable, via Wikimedia Commons, CC BY 2.0). Notice the sample code produces the same plot as the previous exercise. Your task is to modify the code from the previous exercise to plot the new equalized image as well as its PDF and CDF.\n",
    "\n",
    "The arrays image and pixels are extracted for you in advance.\n",
    "The CDF of the original image is computed using plt.hist().\n",
    "Notice an array new_pixels is created for you that interpolates new pixel values using the original image CDF."
   ]
  },
  {
   "cell_type": "code",
   "execution_count": null,
   "metadata": {
    "collapsed": true
   },
   "outputs": [],
   "source": [
    "# Load the image into an array: image\n",
    "image = plt.imread('640px-Unequalized_Hawkes_Bay_NZ.jpg')\n",
    "\n",
    "# Flatten the image into 1 dimension: pixels\n",
    "pixels = image.flatten()\n",
    "\n",
    "# Generate a cumulative histogram\n",
    "cdf, bins, patches = plt.hist(pixels, bins=256, range=(0,256), normed=True, cumulative=True)\n",
    "new_pixels = np.interp(pixels, bins[:-1], cdf*255)\n",
    "\n",
    "# Reshape new_pixels as a 2-D array: new_image\n",
    "new_image = new_pixels.reshape(image.shape)\n",
    "\n",
    "# Display the new image with 'gray' color map\n",
    "plt.subplot(2,1,1)\n",
    "plt.title('Equalized image')\n",
    "plt.axis('off')\n",
    "plt.imshow(new_image, cmap='gray')\n",
    "\n",
    "# Generate a histogram of the new pixels\n",
    "plt.subplot(2,1,2)\n",
    "pdf = plt.hist(new_pixels, bins=64, range=(0,256), normed=False,\n",
    "               color='red', alpha=0.4)\n",
    "plt.grid('off')\n",
    "\n",
    "# Use plt.twinx() to overlay the CDF in the bottom subplot\n",
    "plt.twinx()\n",
    "plt.xlim((0,256))\n",
    "plt.grid('off')\n",
    "\n",
    "# Add title\n",
    "plt.title('PDF & CDF (equalized image)')\n",
    "\n",
    "# Generate a cumulative histogram of the new pixels\n",
    "cdf = plt.hist(new_pixels, bins=64, range=(0,256),\n",
    "               cumulative=True, normed=True,\n",
    "               color='blue', alpha=0.4)\n",
    "plt.show()\n"
   ]
  },
  {
   "cell_type": "code",
   "execution_count": null,
   "metadata": {
    "collapsed": true
   },
   "outputs": [],
   "source": [
    "## Extracting histograms from a color image\n",
    "\n",
    "\n",
    "# Load the image into an array: image\n",
    "image = plt.imread('hs-2004-32-b-small_web.jpg')\n",
    "\n",
    "# Display image in top subplot\n",
    "plt.subplot(2,1,1)\n",
    "plt.title('Original image')\n",
    "plt.axis('off')\n",
    "plt.imshow(image)\n",
    "\n",
    "# Extract 2-D arrays of the RGB channels: red, blue, green\n",
    "red, green, blue = image[:,:,0], image[:,:,1], image[:,:,2]\n",
    "\n",
    "# Flatten the 2-D arrays of the RGB channels into 1-D\n",
    "red_pixels = red.flatten()\n",
    "blue_pixels = blue.flatten()\n",
    "green_pixels = green.flatten()\n",
    "\n",
    "# Overlay histograms of the pixels of each color in the bottom subplot\n",
    "plt.subplot(2,1,2)\n",
    "plt.title('Histograms from color image')\n",
    "plt.xlim((0,256))\n",
    "plt.hist(red_pixels, bins=64, normed=True, color='red', alpha=0.2)\n",
    "plt.hist(blue_pixels, bins=64, normed=True, color='blue', alpha=0.2)\n",
    "plt.hist(green_pixels, bins=64, normed=True, color='green', alpha=0.2)\n",
    "\n",
    "# Display the plot\n",
    "plt.show()\n"
   ]
  },
  {
   "cell_type": "code",
   "execution_count": null,
   "metadata": {
    "collapsed": true
   },
   "outputs": [],
   "source": [
    "# Load the image into an array: image\n",
    "image = plt.imread('hs-2004-32-b-small_web.jpg')\n",
    "\n",
    "# Extract RGB channels and flatten into 1-D array\n",
    "red, blue, green = image[:,:,0], image[:,:,1], image[:,:,2]\n",
    "red_pixels = red.flatten()\n",
    "blue_pixels = blue.flatten()\n",
    "green_pixels = green.flatten()\n",
    "\n",
    "# Generate a 2-D histogram of the red and green pixels\n",
    "plt.subplot(2,2,1)\n",
    "plt.grid('off') \n",
    "plt.xticks(rotation=60)\n",
    "plt.xlabel('red')\n",
    "plt.ylabel('green')\n",
    "plt.hist2d(red_pixels,green_pixels,bins=(32,32))\n",
    "\n",
    "# Generate a 2-D histogram of the green and blue pixels\n",
    "plt.subplot(2,2,2)\n",
    "plt.grid('off')\n",
    "plt.xticks(rotation=60)\n",
    "plt.xlabel('green')\n",
    "plt.ylabel('blue')\n",
    "plt.hist2d(green_pixels,blue_pixels,bins=(32,32))\n",
    "\n",
    "# Generate a 2-D histogram of the blue and red pixels\n",
    "plt.subplot(2,2,3)\n",
    "plt.grid('off')\n",
    "plt.xticks(rotation=60)\n",
    "plt.xlabel('blue')\n",
    "plt.ylabel('red')\n",
    "plt.hist2d(blue_pixels,red_pixels,bins=(32,32))\n",
    "\n",
    "# Display the plot\n",
    "plt.show()\n"
   ]
  },
  {
   "cell_type": "code",
   "execution_count": null,
   "metadata": {
    "collapsed": true
   },
   "outputs": [],
   "source": []
  },
  {
   "cell_type": "code",
   "execution_count": null,
   "metadata": {
    "collapsed": true
   },
   "outputs": [],
   "source": []
  },
  {
   "cell_type": "code",
   "execution_count": null,
   "metadata": {
    "collapsed": true
   },
   "outputs": [],
   "source": []
  },
  {
   "cell_type": "code",
   "execution_count": null,
   "metadata": {
    "collapsed": true
   },
   "outputs": [],
   "source": []
  },
  {
   "cell_type": "code",
   "execution_count": null,
   "metadata": {
    "collapsed": true
   },
   "outputs": [],
   "source": []
  },
  {
   "cell_type": "code",
   "execution_count": null,
   "metadata": {
    "collapsed": true
   },
   "outputs": [],
   "source": []
  },
  {
   "cell_type": "code",
   "execution_count": null,
   "metadata": {
    "collapsed": true
   },
   "outputs": [],
   "source": []
  }
 ],
 "metadata": {
  "kernelspec": {
   "display_name": "Python 3",
   "language": "python",
   "name": "python3"
  },
  "language_info": {
   "codemirror_mode": {
    "name": "ipython",
    "version": 3
   },
   "file_extension": ".py",
   "mimetype": "text/x-python",
   "name": "python",
   "nbconvert_exporter": "python",
   "pygments_lexer": "ipython3",
   "version": "3.6.1"
  }
 },
 "nbformat": 4,
 "nbformat_minor": 2
}
